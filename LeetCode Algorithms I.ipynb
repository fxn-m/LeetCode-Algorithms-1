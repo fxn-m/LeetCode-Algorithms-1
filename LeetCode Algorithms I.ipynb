{
 "cells": [
  {
   "cell_type": "markdown",
   "id": "ebfadc44",
   "metadata": {},
   "source": [
    "<h1 align=\"center\"> LeetCode Algorithms I: Problems and Solutions</h1>\n",
    "\n",
    "<h3 align=\"center\"><a href=https://leetcode.com/study-plan/algorithm/>Problems</a></h3>\n",
    "\n",
    "---"
   ]
  },
  {
   "cell_type": "code",
   "execution_count": 1,
   "id": "030c342f",
   "metadata": {},
   "outputs": [],
   "source": [
    "import random\n",
    "from tqdm import tqdm\n",
    "import collections"
   ]
  },
  {
   "cell_type": "markdown",
   "id": "69e688d5",
   "metadata": {},
   "source": [
    "# Day 1: Binary Search Problems"
   ]
  },
  {
   "cell_type": "markdown",
   "id": "db8a07d6",
   "metadata": {},
   "source": [
    "## 704. <a href=https://leetcode.com/problems/binary-search/>Binary Search</a>\n",
    "\n",
    "Given an array of integers `nums` which is sorted in ascending order, and an integer `target`, write a function to search `target` in `nums`. If `target` exists, then return its index. Otherwise, return `-1`.\n",
    "\n",
    "You must write an algorithm with `O(log n)` runtime complexity.\n",
    "\n",
    "<b>Example 1:</b><br>\n",
    "```\n",
    "- Input: nums = [-1,0,3,5,9,12], target = 9\n",
    "- Output: 4\n",
    "- Explanation: 9 exists in nums and its index is 4\n",
    "\n",
    "```\n",
    "\n",
    "<b>Example 2:</b><br>\n",
    "```\n",
    "- Input: nums = [-1,0,3,5,9,12], target = 2\n",
    "- Output: -1\n",
    "- Explanation: 2 does not exist in nums so return -1\n",
    "```\n",
    "\n",
    "<b>Constraints:</b><br>\n",
    "- 1 <= nums.length <= 104\n",
    "- -104 < nums[i], target < 104\n",
    "- All the integers in nums are unique.\n",
    "- nums is sorted in ascending order.\n",
    "\n",
    "\n",
    "<ins>Notes:</ins><br>\n",
    "Given that this specifies O(log n) complexity - linear scan won't do <br>\n",
    "\n",
    "Main notes from realpython's <a href=\"https://realpython.com/binary-search-python/\">article</a> on binary search\n",
    "- need a sorted list (list is already sorted in this case)"
   ]
  },
  {
   "cell_type": "code",
   "execution_count": 2,
   "id": "8e8acbb5",
   "metadata": {},
   "outputs": [],
   "source": [
    "class Solution:\n",
    "    \n",
    "    def search(self, nums: list, target: int) -> int:\n",
    "        \n",
    "        left, right = 0, len(nums) - 1\n",
    "\n",
    "        while left <= right:\n",
    "            middle = (left + right) // 2\n",
    "\n",
    "            if nums[middle] == target:\n",
    "                return middle\n",
    "\n",
    "            if nums[middle] < target:\n",
    "                left = middle + 1\n",
    "                \n",
    "            elif nums[middle] > target:\n",
    "                right = middle - 1\n",
    "\n",
    "        return -1       "
   ]
  },
  {
   "cell_type": "code",
   "execution_count": 3,
   "id": "a3d1cd19",
   "metadata": {},
   "outputs": [
    {
     "name": "stdout",
     "output_type": "stream",
     "text": [
      "[3, 4, 8, 9, 21, 23, 35, 37, 42, 49, 51, 56, 57, 67, 69, 78, 87, 90, 96, 99]\n",
      "4\n"
     ]
    }
   ],
   "source": [
    "nums = random.sample(range(100), 20)\n",
    "nums.sort()\n",
    "target = random.randint(1, 100)\n",
    "print(nums)\n",
    "print(target)"
   ]
  },
  {
   "cell_type": "code",
   "execution_count": 4,
   "id": "102ad6d0",
   "metadata": {},
   "outputs": [
    {
     "name": "stdout",
     "output_type": "stream",
     "text": [
      "1\n"
     ]
    }
   ],
   "source": [
    "sol = Solution().search(nums, target)\n",
    "print(sol)"
   ]
  },
  {
   "cell_type": "markdown",
   "id": "9745fc15",
   "metadata": {},
   "source": [
    "## 278. First Bad Version\n",
    "\n",
    "You are a product manager and currently leading a team to develop a new product. Unfortunately, the latest version of your product fails the quality check. Since each version is developed based on the previous version, all the versions after a bad version are also bad.\n",
    "\n",
    "Suppose you have `n` versions `[1, 2, ..., n]` and you want to find out the first bad one, which causes all the following ones to be bad.\n",
    "\n",
    "You are given an API `bool isBadVersion(version)` which returns whether `version` is bad. Implement a function to find the first bad version. You should minimize the number of calls to the API."
   ]
  },
  {
   "cell_type": "code",
   "execution_count": 5,
   "id": "34481148",
   "metadata": {},
   "outputs": [],
   "source": [
    "# The isBadVersion API is already defined for you.\n",
    "# def isBadVersion(version: int) -> bool:\n",
    "\n",
    "class Solution:\n",
    "\n",
    "    def firstBadVersion(self, versions) -> int:\n",
    "    \n",
    "        n = len(versions)\n",
    "        \n",
    "        lower, upper = 1, n\n",
    "\n",
    "        while lower <= upper:\n",
    "            \n",
    "            middle = (lower + upper) // 2\n",
    "        \n",
    "            bad = versions[middle]\n",
    "            \n",
    "            if bad:\n",
    "                result = middle\n",
    "                upper = middle-1 \n",
    "                \n",
    "            if not bad:\n",
    "                lower = middle+1\n",
    "        \n",
    "        # add 1 to result as this method indexes a list and we're looking for the nth element\n",
    "        result+=1\n",
    "        \n",
    "        return result"
   ]
  },
  {
   "cell_type": "code",
   "execution_count": 6,
   "id": "16254140",
   "metadata": {},
   "outputs": [
    {
     "data": {
      "text/plain": [
       "37"
      ]
     },
     "execution_count": 6,
     "metadata": {},
     "output_type": "execute_result"
    }
   ],
   "source": [
    "versions = [False] * 36 + [True] * 5\n",
    "\n",
    "Solution().firstBadVersion(versions)"
   ]
  },
  {
   "cell_type": "markdown",
   "id": "30d01260",
   "metadata": {},
   "source": [
    "## 35. Search Insert Position\n",
    "\n",
    "Given a sorted array of distinct integers and a target value, return the index if the target is found. If not, return the index where it would be if it were inserted in order.\n",
    "\n",
    "You must write an algorithm with O(log n) runtime complexity.\n",
    "\n",
    "\n",
    "Example 1:\n",
    "\n",
    "```\n",
    "Input: nums = [1,3,5,6], target = 5\n",
    "Output: 2\n",
    "```\n",
    "\n",
    "Example 2:\n",
    "\n",
    "```\n",
    "Input: nums = [1,3,5,6], target = 2\n",
    "Output: 1\n",
    "```\n",
    "\n",
    "Example 3:\n",
    "\n",
    "```\n",
    "Input: nums = [1,3,5,6], target = 7\n",
    "Output: 4\n",
    "```\n",
    "\n",
    "Constraints:\n",
    "\n",
    "- 1 <= nums.length <= 104\n",
    "- -104 <= nums[i] <= 104\n",
    "- nums contains distinct values sorted in ascending order.\n",
    "- -104 <= target <= 104"
   ]
  },
  {
   "cell_type": "code",
   "execution_count": 7,
   "id": "22089b5e",
   "metadata": {},
   "outputs": [],
   "source": [
    "class Solution:\n",
    "    def searchInsert(self, nums: list, target: int) -> int:\n",
    "        \n",
    "        l, r = 0, len(nums)-1\n",
    "        \n",
    "        while l <= r:\n",
    "            \n",
    "            mid = (l + r) // 2\n",
    "            \n",
    "            if nums[mid] == target:\n",
    "                return mid\n",
    "            \n",
    "            elif target < nums[mid]:\n",
    "                r = mid-1\n",
    "                \n",
    "            else:\n",
    "                l = mid+1                   \n",
    "                \n",
    "        return l"
   ]
  },
  {
   "cell_type": "code",
   "execution_count": 8,
   "id": "ae05f65a",
   "metadata": {},
   "outputs": [],
   "source": [
    "def dumbSearch(nums, target):\n",
    "    \n",
    "    for i, num in enumerate(nums):\n",
    "        if num == target:\n",
    "            return i\n",
    "        elif target < num:\n",
    "            return i"
   ]
  },
  {
   "cell_type": "code",
   "execution_count": 9,
   "id": "18debb17",
   "metadata": {},
   "outputs": [],
   "source": [
    "top =  int(1e9)\n",
    "nums = random.sample(range(top), int(1e7))\n",
    "nums.sort()"
   ]
  },
  {
   "cell_type": "code",
   "execution_count": 10,
   "id": "a22df9e3",
   "metadata": {},
   "outputs": [],
   "source": [
    "target = random.randint(0, top)"
   ]
  },
  {
   "cell_type": "code",
   "execution_count": 11,
   "id": "16aaa3ab",
   "metadata": {},
   "outputs": [
    {
     "name": "stdout",
     "output_type": "stream",
     "text": [
      "Wall time: 110 ms\n"
     ]
    },
    {
     "data": {
      "text/plain": [
       "554155"
      ]
     },
     "execution_count": 11,
     "metadata": {},
     "output_type": "execute_result"
    }
   ],
   "source": [
    "%%time\n",
    "\n",
    "dumbSearch(nums, target)"
   ]
  },
  {
   "cell_type": "code",
   "execution_count": 12,
   "id": "a2e4306b",
   "metadata": {},
   "outputs": [
    {
     "name": "stdout",
     "output_type": "stream",
     "text": [
      "Wall time: 0 ns\n"
     ]
    },
    {
     "data": {
      "text/plain": [
       "554155"
      ]
     },
     "execution_count": 12,
     "metadata": {},
     "output_type": "execute_result"
    }
   ],
   "source": [
    "%%time \n",
    "\n",
    "Solution().searchInsert(nums, target)"
   ]
  },
  {
   "cell_type": "markdown",
   "id": "ed86c193",
   "metadata": {},
   "source": [
    "---"
   ]
  },
  {
   "cell_type": "markdown",
   "id": "b300e6db",
   "metadata": {},
   "source": [
    "# Day 2: Two Pointers"
   ]
  },
  {
   "cell_type": "markdown",
   "id": "69ff00a6",
   "metadata": {},
   "source": [
    "## 977. Squares of a Sorted Array\n",
    "\n",
    "Given an integer array nums sorted in non-decreasing order, return an array of the squares of each number sorted in non-decreasing order.\n",
    "\n",
    " \n",
    "\n",
    "<b>Example 1:</b>\n",
    "\n",
    "```\n",
    "Input: nums = [-4,-1,0,3,10]\n",
    "Output: [0,1,9,16,100]\n",
    "Explanation: After squaring, the array becomes [16,1,0,9,100].\n",
    "After sorting, it becomes [0,1,9,16,100].\n",
    "```\n",
    "    \n",
    "<b>Example 2:</b>\n",
    "```\n",
    "Input: nums = [-7,-3,2,3,11]\n",
    "Output: [4,9,9,49,121]\n",
    "```"
   ]
  },
  {
   "cell_type": "code",
   "execution_count": 13,
   "id": "108a640f",
   "metadata": {},
   "outputs": [],
   "source": [
    "class trivialSolution:\n",
    "    def sortedSquares(self, nums: list) -> list:\n",
    "        \n",
    "        \"\"\"\n",
    "        This approach will \n",
    "        square all of the numbers in the list, \n",
    "        use python's inbuilt sort() method on the list of squares\n",
    "        \"\"\"\n",
    "        \n",
    "        squared_nums = [num**2 for num in nums]\n",
    "        squared_nums.sort()\n",
    "        \n",
    "        return squared_nums"
   ]
  },
  {
   "cell_type": "code",
   "execution_count": 14,
   "id": "061341bf",
   "metadata": {},
   "outputs": [
    {
     "name": "stdout",
     "output_type": "stream",
     "text": [
      "[4, 9, 9, 49, 121]\n"
     ]
    }
   ],
   "source": [
    "nums = [-7,-3,2,3,11]\n",
    "result = trivialSolution().sortedSquares(nums)\n",
    "print(result)"
   ]
  },
  {
   "cell_type": "markdown",
   "id": "c7b3a34f",
   "metadata": {},
   "source": [
    "<b> Follow up: </b>\n",
    "\n",
    "Squaring each element and sorting the new array is very trivial, could you find an O(n) solution using a different approach?"
   ]
  },
  {
   "cell_type": "code",
   "execution_count": 15,
   "id": "b4d0fb80",
   "metadata": {},
   "outputs": [],
   "source": [
    "class Solution:\n",
    "    def sortedSquares(self, nums: list) -> list:\n",
    "        \"\"\"\n",
    "        Title of the problem hints to use two pointers.\n",
    "        \n",
    "        This makes use of the properties of square numbers: that the \n",
    "        square of a number is equal to the square of its negative counterpart.\n",
    "        \n",
    "        >> create answer array to input numbers\n",
    "        >> initialise two pointers: left and right\n",
    "        \n",
    "        >> while the pointers do not 'overlap' ( left <= right )\n",
    "            >> compare absolute value of nums[left] and nums[right]\n",
    "            >> if left number is greater than right number\n",
    "                >> add \n",
    "                >> step uo the list from the left\n",
    "        \"\"\"\n",
    "        \n",
    "        answer = [0] * len(nums)\n",
    "        l, r = 0, len(nums)-1\n",
    "        \n",
    "        while l <= r:            \n",
    "            if abs(nums[l]) > abs(nums[r]):\n",
    "                answer[r-l] = nums[l] ** 2\n",
    "                l += 1 \n",
    "            else:\n",
    "                answer[r-l] = nums[r] ** 2\n",
    "                r -= 1\n",
    "        return answer"
   ]
  },
  {
   "cell_type": "code",
   "execution_count": 16,
   "id": "828793d2",
   "metadata": {},
   "outputs": [
    {
     "name": "stdout",
     "output_type": "stream",
     "text": [
      "[4, 9, 9, 49, 121]\n"
     ]
    }
   ],
   "source": [
    "nums = [-7,-3,2,3,11]\n",
    "result = Solution().sortedSquares(nums)\n",
    "print(result)"
   ]
  },
  {
   "cell_type": "markdown",
   "id": "41607c50",
   "metadata": {},
   "source": [
    "#### time test"
   ]
  },
  {
   "cell_type": "code",
   "execution_count": 17,
   "id": "b0d791f5",
   "metadata": {},
   "outputs": [],
   "source": [
    "nums = random.sample(range(-int(1e9), int(1e9)), int(1e6))\n",
    "nums.sort()"
   ]
  },
  {
   "cell_type": "code",
   "execution_count": 18,
   "id": "7f68cecd",
   "metadata": {},
   "outputs": [
    {
     "name": "stdout",
     "output_type": "stream",
     "text": [
      "[432964, 538756, 582169, 2016400, 7387524, 10969344, 24532209, 31270464, 35640900, 47128225, 62394201]\n",
      "Wall time: 441 ms\n"
     ]
    }
   ],
   "source": [
    "%%time\n",
    "result = trivialSolution().sortedSquares(nums)\n",
    "print(result[0:11])"
   ]
  },
  {
   "cell_type": "code",
   "execution_count": 19,
   "id": "d9751b74",
   "metadata": {},
   "outputs": [
    {
     "name": "stdout",
     "output_type": "stream",
     "text": [
      "[432964, 538756, 582169, 2016400, 7387524, 10969344, 24532209, 31270464, 35640900, 47128225, 62394201]\n",
      "Wall time: 644 ms\n"
     ]
    }
   ],
   "source": [
    "%%time\n",
    "result = Solution().sortedSquares(nums)\n",
    "print(result[0:11])"
   ]
  },
  {
   "cell_type": "markdown",
   "id": "115b3824",
   "metadata": {},
   "source": [
    "<b>need fast</b>\n",
    "\n",
    "although the two pointer pattern implemented does work, it's slower than the trivial solution in the way that it's currently implemented.\n",
    "\n",
    "Use a <a href=\"https://docs.python.org/3/library/collections.html#collections.deque\"> Deque</a>\n",
    "\n",
    "Deque (Doubly Ended Queue, pronounced 'deck') in Python is implemented using the module “collections“. Deque is preferred over a list in the cases where we need quicker append and pop operations from both the ends of the container, as deque provides an O(1) time complexity for append and pop operations as compared to list which provides O(n) time complexity."
   ]
  },
  {
   "cell_type": "code",
   "execution_count": 20,
   "id": "66dbeefd",
   "metadata": {},
   "outputs": [],
   "source": [
    "class Solution:\n",
    "    def sortedSquares(self, nums: list) -> list:\n",
    "        \n",
    "        answer = collections.deque()\n",
    "        l, r = 0, len(nums) - 1\n",
    "        \n",
    "        while l <= r:\n",
    "            left, right = abs(nums[l]), abs(nums[r])\n",
    "            if left > right:\n",
    "                answer.appendleft(left * left)\n",
    "                l += 1\n",
    "            else:\n",
    "                answer.appendleft(right * right)\n",
    "                r -= 1\n",
    "        return list(answer)"
   ]
  },
  {
   "cell_type": "code",
   "execution_count": 21,
   "id": "f7f7e8a5",
   "metadata": {},
   "outputs": [
    {
     "name": "stdout",
     "output_type": "stream",
     "text": [
      "[432964, 538756, 582169, 2016400, 7387524, 10969344, 24532209, 31270464, 35640900, 47128225, 62394201]\n",
      "Wall time: 451 ms\n"
     ]
    }
   ],
   "source": [
    "%%time\n",
    "result = Solution().sortedSquares(nums)\n",
    "print(result[0:11])"
   ]
  },
  {
   "cell_type": "markdown",
   "id": "ffd31f83",
   "metadata": {},
   "source": [
    "## 189. Rotate Array\n",
    "\n",
    "Given an array, rotate the array to the right by k steps, where k is non-negative.\n",
    "\n",
    "\n",
    "<b>Example 1:</b>\n",
    "```\n",
    "Input: nums = [1,2,3,4,5,6,7], k = 3\n",
    "Output: [5,6,7,1,2,3,4]\n",
    "Explanation:\n",
    "rotate 1 steps to the right: [7,1,2,3,4,5,6]\n",
    "rotate 2 steps to the right: [6,7,1,2,3,4,5]\n",
    "rotate 3 steps to the right: [5,6,7,1,2,3,4]\n",
    "```\n",
    "\n",
    "<b>Example 2:</b>\n",
    "```\n",
    "Input: nums = [-1,-100,3,99], k = 2\n",
    "Output: [3,99,-1,-100]\n",
    "Explanation: \n",
    "rotate 1 steps to the right: [99,-1,-100,3]\n",
    "rotate 2 steps to the right: [3,99,-1,-100]\n",
    "```"
   ]
  },
  {
   "cell_type": "code",
   "execution_count": 22,
   "id": "422a43b8",
   "metadata": {},
   "outputs": [],
   "source": [
    "class Solution:\n",
    "    def rotate(self, nums: list, k: int) -> None:\n",
    "        \"\"\"\n",
    "        Do not return anything, modify nums in-place instead.\n",
    "        \"\"\"\n",
    "        for i in range(k):\n",
    "            nums.insert(0, nums.pop())\n",
    "        \n",
    "        # for debugging, return the list\n",
    "        return nums"
   ]
  },
  {
   "cell_type": "code",
   "execution_count": 23,
   "id": "2b4a73e9",
   "metadata": {},
   "outputs": [
    {
     "data": {
      "text/plain": [
       "[5, 6, 7, 1, 2, 3, 4]"
      ]
     },
     "execution_count": 23,
     "metadata": {},
     "output_type": "execute_result"
    }
   ],
   "source": [
    "nums = [1,2,3,4,5,6,7]\n",
    "k = 3 \n",
    "\n",
    "result = Solution().rotate(nums, k)\n",
    "result"
   ]
  },
  {
   "cell_type": "code",
   "execution_count": 24,
   "id": "ff9247f6",
   "metadata": {},
   "outputs": [],
   "source": [
    "class Solution:\n",
    "    def rotate(self, nums: list, k: int) -> None:\n",
    "        \"\"\"\n",
    "        Do not return anything, modify nums in-place instead.\n",
    "        \"\"\"\n",
    "        n = len(nums)\n",
    "        if k ==0:\n",
    "            return\n",
    "        if k > n:\n",
    "            k = k%n\n",
    "        if k > 0:\n",
    "            nums[:] = nums[-k:] + nums[0:n-k]"
   ]
  },
  {
   "cell_type": "code",
   "execution_count": 25,
   "id": "d1965fc7",
   "metadata": {},
   "outputs": [],
   "source": [
    "nums = [1,2,3,4,5,6,7]\n",
    "k = 3 \n",
    "\n",
    "result = Solution().rotate(nums, k)\n",
    "result"
   ]
  },
  {
   "cell_type": "markdown",
   "id": "9bd84cd1",
   "metadata": {},
   "source": [
    "---"
   ]
  },
  {
   "cell_type": "markdown",
   "id": "1753a784",
   "metadata": {},
   "source": [
    "# Day 3: Two Pointers"
   ]
  },
  {
   "cell_type": "markdown",
   "id": "40a5cabe",
   "metadata": {},
   "source": [
    "## 283. Move Zeroes\n",
    "\n",
    "Given an integer array nums, move all 0's to the end of it while maintaining the relative order of the non-zero elements.\n",
    "\n",
    "Note that you must do this in-place without making a copy of the array.\n",
    "\n",
    "<b>Example 1:</b>\n",
    "```\n",
    "Input: nums = [0,1,0,3,12]\n",
    "Output: [1,3,12,0,0]\n",
    "```\n",
    "<b>Example 2:</b>\n",
    "```\n",
    "Input: nums = [0]\n",
    "Output: [0]\n",
    "```"
   ]
  },
  {
   "cell_type": "markdown",
   "id": "d9b76c5d",
   "metadata": {},
   "source": [
    "#### create test "
   ]
  },
  {
   "cell_type": "code",
   "execution_count": 26,
   "id": "877a4c82",
   "metadata": {},
   "outputs": [],
   "source": [
    "nums_length = int(1e5)\n",
    "nums_max = int(1e6)\n",
    "\n",
    "# create array\n",
    "nums = random.sample(range(nums_max), nums_length)\n",
    "\n",
    "# create random list of indexes\n",
    "zeros = random.sample(range(nums_length), nums_length//10)\n",
    "\n",
    "# assign 0s to indexes\n",
    "for idx in zeros:\n",
    "    nums[idx] = 0"
   ]
  },
  {
   "cell_type": "markdown",
   "id": "c5f985d0",
   "metadata": {},
   "source": [
    "#### slow method"
   ]
  },
  {
   "cell_type": "code",
   "execution_count": 27,
   "id": "319c77de",
   "metadata": {},
   "outputs": [],
   "source": [
    "class Solution:\n",
    "    def moveZeroes(self, nums: list) -> None:\n",
    "        \"\"\"\n",
    "        Do not return anything, modify nums in-place instead.\n",
    "        \"\"\"\n",
    "        for i in tqdm(range(len(nums))):\n",
    "            if not nums[i]:\n",
    "                nums.append(0)\n",
    "                nums.remove(0)\n",
    "        return nums"
   ]
  },
  {
   "cell_type": "code",
   "execution_count": 28,
   "id": "c1ec99ba",
   "metadata": {},
   "outputs": [
    {
     "name": "stderr",
     "output_type": "stream",
     "text": [
      "100%|███████████████████████████████████████████████████████████████████████████████████████████████████████████████████████████████████████████████████████████████████████████████████████████████████████████████████████████████| 100000/100000 [01:01<00:00, 1613.22it/s]"
     ]
    },
    {
     "name": "stdout",
     "output_type": "stream",
     "text": [
      "Wall time: 1min 2s\n"
     ]
    },
    {
     "name": "stderr",
     "output_type": "stream",
     "text": [
      "\n"
     ]
    }
   ],
   "source": [
    "%%time\n",
    "result = Solution().moveZeroes(nums)"
   ]
  },
  {
   "cell_type": "markdown",
   "id": "08179c1b",
   "metadata": {},
   "source": [
    "#### faster: two pointers"
   ]
  },
  {
   "cell_type": "code",
   "execution_count": 29,
   "id": "e918ad81",
   "metadata": {},
   "outputs": [],
   "source": [
    "class Solution:\n",
    "    def moveZeroes(self, nums: list) -> None:\n",
    "        \"\"\"\n",
    "        Do not return anything, modify nums in-place instead.\n",
    "        \"\"\"\n",
    "        \n",
    "        i = 0\n",
    "        \n",
    "        for j in range(len(nums)):\n",
    "            if nums[j] != 0:\n",
    "                nums[j], nums[i] = nums[i], nums[j]\n",
    "                i+=1        \n",
    "        \n",
    "        return nums"
   ]
  },
  {
   "cell_type": "code",
   "execution_count": 30,
   "id": "5d76e56e",
   "metadata": {},
   "outputs": [
    {
     "name": "stdout",
     "output_type": "stream",
     "text": [
      "Wall time: 20 ms\n"
     ]
    }
   ],
   "source": [
    "%%time\n",
    "result = Solution().moveZeroes(nums)"
   ]
  }
 ],
 "metadata": {
  "kernelspec": {
   "display_name": "Python 3 (ipykernel)",
   "language": "python",
   "name": "python3"
  },
  "language_info": {
   "codemirror_mode": {
    "name": "ipython",
    "version": 3
   },
   "file_extension": ".py",
   "mimetype": "text/x-python",
   "name": "python",
   "nbconvert_exporter": "python",
   "pygments_lexer": "ipython3",
   "version": "3.9.6"
  }
 },
 "nbformat": 4,
 "nbformat_minor": 5
}
