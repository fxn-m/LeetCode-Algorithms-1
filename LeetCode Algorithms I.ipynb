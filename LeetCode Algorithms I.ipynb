{
 "cells": [
  {
   "cell_type": "markdown",
   "id": "ebfadc44",
   "metadata": {},
   "source": [
    "<h1 align=\"center\"> LeetCode Algorithms I: Problems and Solutions</h1>\n",
    "\n",
    "<h3 align=\"center\"><a href=https://leetcode.com/study-plan/algorithm/>Problems</a></h3>\n",
    "\n",
    "---"
   ]
  },
  {
   "cell_type": "markdown",
   "id": "69e688d5",
   "metadata": {},
   "source": [
    "# Day 1: Binary Search Problems"
   ]
  },
  {
   "cell_type": "markdown",
   "id": "db8a07d6",
   "metadata": {},
   "source": [
    "## 704. <a href=https://leetcode.com/problems/binary-search/>Binary Search</a>\n",
    "\n",
    "Given an array of integers `nums` which is sorted in ascending order, and an integer `target`, write a function to search `target` in `nums`. If `target` exists, then return its index. Otherwise, return `-1`.\n",
    "\n",
    "You must write an algorithm with `O(log n)` runtime complexity.\n",
    "\n",
    "<b>Example 1:</b><br>\n",
    "```\n",
    "- Input: nums = [-1,0,3,5,9,12], target = 9\n",
    "- Output: 4\n",
    "- Explanation: 9 exists in nums and its index is 4\n",
    "\n",
    "```\n",
    "\n",
    "<b>Example 2:</b><br>\n",
    "```\n",
    "- Input: nums = [-1,0,3,5,9,12], target = 2\n",
    "- Output: -1\n",
    "- Explanation: 2 does not exist in nums so return -1\n",
    "```\n",
    "\n",
    "<b>Constraints:</b><br>\n",
    "- 1 <= nums.length <= 104\n",
    "- -104 < nums[i], target < 104\n",
    "- All the integers in nums are unique.\n",
    "- nums is sorted in ascending order.\n",
    "\n",
    "\n",
    "<ins>Notes:</ins><br>\n",
    "Given that this specifies O(log n) complexity - linear scan won't do <br>\n",
    "\n",
    "Main notes from realpython's <a href=\"https://realpython.com/binary-search-python/\">article</a> on binary search\n",
    "- need a sorted list (list is already sorted in this case)"
   ]
  },
  {
   "cell_type": "code",
   "execution_count": null,
   "id": "8e8acbb5",
   "metadata": {},
   "outputs": [],
   "source": [
    "class Solution:\n",
    "    \n",
    "    def search(self, nums: list, target: int) -> int:\n",
    "        \n",
    "        left, right = 0, len(nums) - 1\n",
    "\n",
    "        while left <= right:\n",
    "            middle = (left + right) // 2\n",
    "\n",
    "            if nums[middle] == target:\n",
    "                return middle\n",
    "\n",
    "            if nums[middle] < target:\n",
    "                left = middle + 1\n",
    "            elif nums[middle] > target:\n",
    "                right = middle - 1\n",
    "\n",
    "        return -1       "
   ]
  },
  {
   "cell_type": "code",
   "execution_count": null,
   "id": "a3d1cd19",
   "metadata": {},
   "outputs": [],
   "source": [
    "nums = [-1,0,3,5,9,12, 13, 14,23, 34, 45, 56, 67, 78, 89, 91, 93, 94, 95, 97]\n",
    "target = 67"
   ]
  },
  {
   "cell_type": "code",
   "execution_count": null,
   "id": "102ad6d0",
   "metadata": {},
   "outputs": [],
   "source": [
    "sol = Solution().search(nums, target)\n",
    "print(sol)"
   ]
  },
  {
   "cell_type": "markdown",
   "id": "9745fc15",
   "metadata": {},
   "source": [
    "## 278. First Bad Version\n",
    "\n",
    "You are a product manager and currently leading a team to develop a new product. Unfortunately, the latest version of your product fails the quality check. Since each version is developed based on the previous version, all the versions after a bad version are also bad.\n",
    "\n",
    "Suppose you have `n` versions `[1, 2, ..., n]` and you want to find out the first bad one, which causes all the following ones to be bad.\n",
    "\n",
    "You are given an API `bool isBadVersion(version)` which returns whether `version` is bad. Implement a function to find the first bad version. You should minimize the number of calls to the API."
   ]
  },
  {
   "cell_type": "code",
   "execution_count": null,
   "id": "34481148",
   "metadata": {},
   "outputs": [],
   "source": [
    "# The isBadVersion API is already defined for you.\n",
    "# def isBadVersion(version: int) -> bool:\n",
    "\n",
    "class Solution:\n",
    "\n",
    "    def firstBadVersion(self, versions) -> int:\n",
    "    \n",
    "        n = len(versions)\n",
    "        \n",
    "        lower, upper = 1, n\n",
    "\n",
    "        while lower <= upper:\n",
    "            \n",
    "            middle = (lower + upper) // 2\n",
    "        \n",
    "            bad = versions[middle]\n",
    "            \n",
    "            if bad:\n",
    "                result = middle\n",
    "                upper = middle-1 \n",
    "                \n",
    "            if not bad:\n",
    "                lower = middle+1\n",
    "        \n",
    "        # add 1 to result as this method indexes a list and we're looking for the nth \n",
    "        result+=1\n",
    "        \n",
    "        return result"
   ]
  },
  {
   "cell_type": "code",
   "execution_count": null,
   "id": "16254140",
   "metadata": {},
   "outputs": [],
   "source": [
    "versions = [False] * 36 + [True] * 5\n",
    "\n",
    "Solution().firstBadVersion(versions)"
   ]
  },
  {
   "cell_type": "markdown",
   "id": "30d01260",
   "metadata": {},
   "source": [
    "## 35. Search Insert Position\n",
    "\n",
    "Given a sorted array of distinct integers and a target value, return the index if the target is found. If not, return the index where it would be if it were inserted in order.\n",
    "\n",
    "You must write an algorithm with O(log n) runtime complexity.\n",
    "\n",
    "\n",
    "Example 1:\n",
    "\n",
    "```\n",
    "Input: nums = [1,3,5,6], target = 5\n",
    "Output: 2\n",
    "```\n",
    "\n",
    "Example 2:\n",
    "\n",
    "```\n",
    "Input: nums = [1,3,5,6], target = 2\n",
    "Output: 1\n",
    "```\n",
    "\n",
    "Example 3:\n",
    "\n",
    "```\n",
    "Input: nums = [1,3,5,6], target = 7\n",
    "Output: 4\n",
    "```\n",
    "\n",
    "Constraints:\n",
    "\n",
    "- 1 <= nums.length <= 104\n",
    "- -104 <= nums[i] <= 104\n",
    "- nums contains distinct values sorted in ascending order.\n",
    "- -104 <= target <= 104"
   ]
  },
  {
   "cell_type": "code",
   "execution_count": null,
   "id": "22089b5e",
   "metadata": {},
   "outputs": [],
   "source": [
    "class Solution:\n",
    "    def searchInsert(self, nums: list, target: int) -> int:\n",
    "        \n",
    "        l, r = 0, len(nums)-1\n",
    "        \n",
    "        while l <= r:\n",
    "            \n",
    "            mid = (l + r) // 2\n",
    "            \n",
    "            if nums[mid] == target:\n",
    "                return mid\n",
    "            \n",
    "            elif target < nums[mid]:\n",
    "                r = mid-1\n",
    "                \n",
    "            else:\n",
    "                l = mid+1                   \n",
    "                \n",
    "        return l"
   ]
  },
  {
   "cell_type": "code",
   "execution_count": null,
   "id": "ae05f65a",
   "metadata": {},
   "outputs": [],
   "source": [
    "def dumbSearch(nums, target):\n",
    "    \n",
    "    for i, num in enumerate(nums):\n",
    "        if num == target:\n",
    "            return i\n",
    "        elif target < num:\n",
    "            return i"
   ]
  },
  {
   "cell_type": "code",
   "execution_count": null,
   "id": "18debb17",
   "metadata": {},
   "outputs": [],
   "source": [
    "import random\n",
    "\n",
    "top =  int(1e9)\n",
    "nums = random.sample(range(top), int(1e7))\n",
    "nums.sort()"
   ]
  },
  {
   "cell_type": "code",
   "execution_count": null,
   "id": "a22df9e3",
   "metadata": {},
   "outputs": [],
   "source": [
    "target = random.randint(0, top)"
   ]
  },
  {
   "cell_type": "code",
   "execution_count": null,
   "id": "16aaa3ab",
   "metadata": {},
   "outputs": [],
   "source": [
    "%%time\n",
    "\n",
    "dumbSearch(nums, target)"
   ]
  },
  {
   "cell_type": "code",
   "execution_count": null,
   "id": "a2e4306b",
   "metadata": {},
   "outputs": [],
   "source": [
    "%%time \n",
    "\n",
    "Solution().searchInsert(nums, target)"
   ]
  }
 ],
 "metadata": {
  "kernelspec": {
   "display_name": "Python 3",
   "language": "python",
   "name": "python3"
  },
  "language_info": {
   "codemirror_mode": {
    "name": "ipython",
    "version": 3
   },
   "file_extension": ".py",
   "mimetype": "text/x-python",
   "name": "python",
   "nbconvert_exporter": "python",
   "pygments_lexer": "ipython3",
   "version": "3.8.8"
  }
 },
 "nbformat": 4,
 "nbformat_minor": 5
}
