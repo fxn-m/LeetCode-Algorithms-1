{
 "cells": [
  {
   "cell_type": "markdown",
   "id": "ebfadc44",
   "metadata": {},
   "source": [
    "<h1 align=\"center\"> LeetCode Algorithms I: Problems and Solutions</h1>\n",
    "\n",
    "<h3 align=\"center\"><a href=https://leetcode.com/study-plan/algorithm/>Problems</a></h3>\n",
    "\n",
    "---"
   ]
  },
  {
   "cell_type": "markdown",
   "id": "db8a07d6",
   "metadata": {},
   "source": [
    "## 704. <a href=https://leetcode.com/problems/binary-search/>Binary Search</a>\n",
    "\n",
    "Given an array of integers `nums` which is sorted in ascending order, and an integer `target`, write a function to search `target` in `nums`. If `target` exists, then return its index. Otherwise, return `-1`.\n",
    "\n",
    "You must write an algorithm with `O(log n)` runtime complexity.\n",
    "\n",
    "<b>Example 1:</b><br>\n",
    "```\n",
    "- Input: nums = [-1,0,3,5,9,12], target = 9\n",
    "- Output: 4\n",
    "- Explanation: 9 exists in nums and its index is 4\n",
    "\n",
    "```\n",
    "\n",
    "<b>Example 2:</b><br>\n",
    "```\n",
    "- Input: nums = [-1,0,3,5,9,12], target = 2\n",
    "- Output: -1\n",
    "- Explanation: 2 does not exist in nums so return -1\n",
    "```\n",
    "\n",
    "<b>Constraints:</b><br>\n",
    "- 1 <= nums.length <= 104\n",
    "- -104 < nums[i], target < 104\n",
    "- All the integers in nums are unique.\n",
    "- nums is sorted in ascending order.\n",
    "\n",
    "\n",
    "<ins>Notes:</ins><br>\n",
    "Given that this specifies O(log n) complexity - linear scan won't do <br>\n",
    "\n",
    "Main notes from realpython's <a href=\"https://realpython.com/binary-search-python/\">article</a> on binary search\n",
    "- need a sorted list (list is already sorted in this case)"
   ]
  },
  {
   "cell_type": "code",
   "execution_count": 72,
   "id": "8e8acbb5",
   "metadata": {},
   "outputs": [],
   "source": [
    "class Solution:\n",
    "    \n",
    "    def search(self, nums: list, target: int) -> int:\n",
    "        \n",
    "        left, right = 0, len(nums) - 1\n",
    "\n",
    "        while left <= right:\n",
    "            middle = (left + right) // 2\n",
    "\n",
    "            if nums[middle] == target:\n",
    "                return middle\n",
    "\n",
    "            if nums[middle] < target:\n",
    "                left = middle + 1\n",
    "            elif nums[middle] > target:\n",
    "                right = middle - 1\n",
    "\n",
    "        return -1       "
   ]
  },
  {
   "cell_type": "code",
   "execution_count": 73,
   "id": "2b9c934d",
   "metadata": {},
   "outputs": [],
   "source": [
    "nums = [-1,0,3,5,9,12, 13, 14,23, 34, 45, 56, 67, 78, 89, 91, 93, 94, 95, 97]\n",
    "target = 67"
   ]
  },
  {
   "cell_type": "code",
   "execution_count": 74,
   "id": "102ad6d0",
   "metadata": {},
   "outputs": [
    {
     "name": "stdout",
     "output_type": "stream",
     "text": [
      "12\n"
     ]
    }
   ],
   "source": [
    "sol = Solution().search(nums, target)\n",
    "print(sol)"
   ]
  },
  {
   "cell_type": "markdown",
   "id": "c9a37056",
   "metadata": {},
   "source": [
    "# 278. First Bad Version"
   ]
  }
 ],
 "metadata": {
  "kernelspec": {
   "display_name": "Python 3",
   "language": "python",
   "name": "python3"
  },
  "language_info": {
   "codemirror_mode": {
    "name": "ipython",
    "version": 3
   },
   "file_extension": ".py",
   "mimetype": "text/x-python",
   "name": "python",
   "nbconvert_exporter": "python",
   "pygments_lexer": "ipython3",
   "version": "3.8.8"
  }
 },
 "nbformat": 4,
 "nbformat_minor": 5
}
