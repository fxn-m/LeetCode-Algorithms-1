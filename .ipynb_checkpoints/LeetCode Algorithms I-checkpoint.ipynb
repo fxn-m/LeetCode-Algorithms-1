{
 "cells": [
  {
   "cell_type": "markdown",
   "id": "ebfadc44",
   "metadata": {},
   "source": [
    "<h1 align=\"center\"> LeetCode Algorithms I: Problems and Solutions</h1>\n",
    "\n",
    "<h3 align=\"center\"><a href=https://leetcode.com/study-plan/algorithm/>Problems</a></h3>\n",
    "\n",
    "---"
   ]
  },
  {
   "cell_type": "code",
   "execution_count": null,
   "id": "7ea8913d",
   "metadata": {},
   "outputs": [],
   "source": [
    "import random\n",
    "from tqdm import tqdm\n",
    "import collections"
   ]
  },
  {
   "cell_type": "markdown",
   "id": "69e688d5",
   "metadata": {},
   "source": [
    "# Day 1: Binary Search Problems"
   ]
  },
  {
   "cell_type": "markdown",
   "id": "db8a07d6",
   "metadata": {},
   "source": [
    "## 704. Binary Search\n",
    "\n",
    "Given an array of integers `nums` which is sorted in ascending order, and an integer `target`, write a function to search `target` in `nums`. If `target` exists, then return its index. Otherwise, return `-1`.\n",
    "\n",
    "You must write an algorithm with `O(log n)` runtime complexity.\n",
    "\n",
    "<b>Example 1:</b><br>\n",
    "```\n",
    "- Input: nums = [-1,0,3,5,9,12], target = 9\n",
    "- Output: 4\n",
    "- Explanation: 9 exists in nums and its index is 4\n",
    "\n",
    "```\n",
    "\n",
    "<b>Example 2:</b><br>\n",
    "```\n",
    "- Input: nums = [-1,0,3,5,9,12], target = 2\n",
    "- Output: -1\n",
    "- Explanation: 2 does not exist in nums so return -1\n",
    "```\n",
    "\n",
    "<b>Constraints:</b><br>\n",
    "- 1 <= nums.length <= 104\n",
    "- -104 < nums[i], target < 104\n",
    "- All the integers in nums are unique.\n",
    "- nums is sorted in ascending order.\n",
    "\n",
    "\n",
    "<ins>Notes:</ins><br>\n",
    "Given that this specifies O(log n) complexity - linear scan won't do <br>\n",
    "\n",
    "Main notes from realpython's <a href=\"https://realpython.com/binary-search-python/\">article</a> on binary search\n",
    "- need a sorted list (list is already sorted in this case)"
   ]
  },
  {
   "cell_type": "code",
   "execution_count": null,
   "id": "8e8acbb5",
   "metadata": {},
   "outputs": [],
   "source": [
    "class Solution:\n",
    "    \n",
    "    def search(self, nums: list, target: int) -> int:\n",
    "        \n",
    "        left, right = 0, len(nums) - 1\n",
    "\n",
    "        while left <= right:\n",
    "            middle = (left + right) // 2\n",
    "\n",
    "            if nums[middle] == target:\n",
    "                return middle\n",
    "\n",
    "            if nums[middle] < target:\n",
    "                left = middle + 1\n",
    "                \n",
    "            elif nums[middle] > target:\n",
    "                right = middle - 1\n",
    "\n",
    "        return -1       "
   ]
  },
  {
   "cell_type": "code",
   "execution_count": null,
   "id": "a3d1cd19",
   "metadata": {},
   "outputs": [],
   "source": [
    "nums = random.sample(range(100), 20)\n",
    "nums.sort()\n",
    "target = nums[random.randint(1, 19)]\n",
    "print(nums)\n",
    "print(target)"
   ]
  },
  {
   "cell_type": "code",
   "execution_count": null,
   "id": "102ad6d0",
   "metadata": {},
   "outputs": [],
   "source": [
    "sol = Solution().search(nums, target)\n",
    "print(sol)"
   ]
  },
  {
   "cell_type": "markdown",
   "id": "9745fc15",
   "metadata": {},
   "source": [
    "## 278. First Bad Version\n",
    "\n",
    "You are a product manager and currently leading a team to develop a new product. Unfortunately, the latest version of your product fails the quality check. Since each version is developed based on the previous version, all the versions after a bad version are also bad.\n",
    "\n",
    "Suppose you have `n` versions `[1, 2, ..., n]` and you want to find out the first bad one, which causes all the following ones to be bad.\n",
    "\n",
    "You are given an API `bool isBadVersion(version)` which returns whether `version` is bad. Implement a function to find the first bad version. You should minimize the number of calls to the API."
   ]
  },
  {
   "cell_type": "code",
   "execution_count": null,
   "id": "34481148",
   "metadata": {},
   "outputs": [],
   "source": [
    "# The isBadVersion API is already defined for you.\n",
    "# def isBadVersion(version: int) -> bool:\n",
    "\n",
    "class Solution:\n",
    "\n",
    "    def firstBadVersion(self, versions) -> int:\n",
    "    \n",
    "        n = len(versions)\n",
    "        \n",
    "        lower, upper = 1, n\n",
    "\n",
    "        while lower <= upper:\n",
    "            \n",
    "            middle = (lower + upper) // 2\n",
    "        \n",
    "            bad = versions[middle]\n",
    "            \n",
    "            if bad:\n",
    "                result = middle\n",
    "                upper = middle-1 \n",
    "                \n",
    "            if not bad:\n",
    "                lower = middle+1\n",
    "        \n",
    "        # add 1 to result as this method indexes a list and we're looking for the nth element\n",
    "        result+=1\n",
    "        \n",
    "        return result"
   ]
  },
  {
   "cell_type": "code",
   "execution_count": null,
   "id": "16254140",
   "metadata": {},
   "outputs": [],
   "source": [
    "versions = [False] * 36 + [True] * 5\n",
    "\n",
    "Solution().firstBadVersion(versions)"
   ]
  },
  {
   "cell_type": "markdown",
   "id": "30d01260",
   "metadata": {},
   "source": [
    "## 35. Search Insert Position\n",
    "\n",
    "Given a sorted array of distinct integers and a target value, return the index if the target is found. If not, return the index where it would be if it were inserted in order.\n",
    "\n",
    "You must write an algorithm with O(log n) runtime complexity.\n",
    "\n",
    "\n",
    "Example 1:\n",
    "\n",
    "```\n",
    "Input: nums = [1,3,5,6], target = 5\n",
    "Output: 2\n",
    "```\n",
    "\n",
    "Example 2:\n",
    "\n",
    "```\n",
    "Input: nums = [1,3,5,6], target = 2\n",
    "Output: 1\n",
    "```\n",
    "\n",
    "Example 3:\n",
    "\n",
    "```\n",
    "Input: nums = [1,3,5,6], target = 7\n",
    "Output: 4\n",
    "```\n",
    "\n",
    "Constraints:\n",
    "\n",
    "- 1 <= nums.length <= 104\n",
    "- -104 <= nums[i] <= 104\n",
    "- nums contains distinct values sorted in ascending order.\n",
    "- -104 <= target <= 104"
   ]
  },
  {
   "cell_type": "code",
   "execution_count": null,
   "id": "22089b5e",
   "metadata": {},
   "outputs": [],
   "source": [
    "class Solution:\n",
    "    def searchInsert(self, nums: list, target: int) -> int:\n",
    "        \n",
    "        l, r = 0, len(nums)-1\n",
    "        \n",
    "        while l <= r:\n",
    "            \n",
    "            mid = (l + r) // 2\n",
    "            \n",
    "            if nums[mid] == target:\n",
    "                return mid\n",
    "            \n",
    "            elif target < nums[mid]:\n",
    "                r = mid-1\n",
    "                \n",
    "            else:\n",
    "                l = mid+1                   \n",
    "                \n",
    "        return l"
   ]
  },
  {
   "cell_type": "code",
   "execution_count": null,
   "id": "ae05f65a",
   "metadata": {},
   "outputs": [],
   "source": [
    "def dumbSearch(nums, target):\n",
    "    \n",
    "    for i, num in enumerate(nums):\n",
    "        if num == target:\n",
    "            return i\n",
    "        elif target < num:\n",
    "            return i"
   ]
  },
  {
   "cell_type": "code",
   "execution_count": null,
   "id": "18debb17",
   "metadata": {},
   "outputs": [],
   "source": [
    "top =  int(1e9)\n",
    "nums = random.sample(range(top), int(1e7))\n",
    "nums.sort()"
   ]
  },
  {
   "cell_type": "code",
   "execution_count": null,
   "id": "a22df9e3",
   "metadata": {},
   "outputs": [],
   "source": [
    "target = random.randint(0, top)"
   ]
  },
  {
   "cell_type": "code",
   "execution_count": null,
   "id": "16aaa3ab",
   "metadata": {},
   "outputs": [],
   "source": [
    "%%time\n",
    "\n",
    "dumbSearch(nums, target)"
   ]
  },
  {
   "cell_type": "code",
   "execution_count": null,
   "id": "a2e4306b",
   "metadata": {},
   "outputs": [],
   "source": [
    "%%time \n",
    "\n",
    "Solution().searchInsert(nums, target)"
   ]
  },
  {
   "cell_type": "markdown",
   "id": "ed86c193",
   "metadata": {},
   "source": [
    "---"
   ]
  },
  {
   "cell_type": "markdown",
   "id": "b300e6db",
   "metadata": {},
   "source": [
    "# Day 2: Two Pointers"
   ]
  },
  {
   "cell_type": "markdown",
   "id": "69ff00a6",
   "metadata": {},
   "source": [
    "## 977. Squares of a Sorted Array\n",
    "\n",
    "Given an integer array nums sorted in non-decreasing order, return an array of the squares of each number sorted in non-decreasing order.\n",
    "\n",
    "<b>Example 1:</b>\n",
    "\n",
    "```\n",
    "Input: nums = [-4,-1,0,3,10]\n",
    "Output: [0,1,9,16,100]\n",
    "Explanation: After squaring, the array becomes [16,1,0,9,100].\n",
    "After sorting, it becomes [0,1,9,16,100].\n",
    "```\n",
    "    \n",
    "<b>Example 2:</b>\n",
    "\n",
    "```\n",
    "Input: nums = [-7,-3,2,3,11]\n",
    "Output: [4,9,9,49,121]\n",
    "```"
   ]
  },
  {
   "cell_type": "code",
   "execution_count": null,
   "id": "108a640f",
   "metadata": {},
   "outputs": [],
   "source": [
    "class trivialSolution:\n",
    "    def sortedSquares(self, nums: list) -> list:\n",
    "        \n",
    "        \"\"\"\n",
    "        This approach will \n",
    "        square all of the numbers in the list, \n",
    "        use python's inbuilt sort() method on the list of squares\n",
    "        \"\"\"\n",
    "        \n",
    "        squared_nums = [num**2 for num in nums]\n",
    "        squared_nums.sort()\n",
    "        \n",
    "        return squared_nums"
   ]
  },
  {
   "cell_type": "code",
   "execution_count": null,
   "id": "a10fb6ee",
   "metadata": {},
   "outputs": [],
   "source": [
    "nums = [-7,-3,2,3,11]\n",
    "result = trivialSolution().sortedSquares(nums)\n",
    "print(result)"
   ]
  },
  {
   "cell_type": "markdown",
   "id": "5510a1c0",
   "metadata": {},
   "source": [
    "<b> Follow up: </b>\n",
    "\n",
    "Squaring each element and sorting the new array is very trivial, could you find an O(n) solution using a different approach?"
   ]
  },
  {
   "cell_type": "code",
   "execution_count": null,
   "id": "1769fb54",
   "metadata": {},
   "outputs": [],
   "source": [
    "class Solution:\n",
    "    def sortedSquares(self, nums: list) -> list:\n",
    "        \"\"\"\n",
    "        Title of the problem hints to use two pointers.\n",
    "        \n",
    "        This makes use of the properties of square numbers: that the \n",
    "        square of a number is equal to the square of its negative counterpart.\n",
    "        \n",
    "        >> create answer array to input numbers\n",
    "        >> initialise two pointers: left and right\n",
    "        \n",
    "        >> while the pointers do not 'overlap' ( left <= right )\n",
    "            >> compare absolute value of nums[left] and nums[right]\n",
    "            >> if left number is greater than right number\n",
    "                >> add \n",
    "                >> step uo the list from the left\n",
    "        \"\"\"\n",
    "        \n",
    "        answer = [0] * len(nums)\n",
    "        l, r = 0, len(nums)-1\n",
    "        \n",
    "        while l <= r:            \n",
    "            if abs(nums[l]) > abs(nums[r]):\n",
    "                answer[r-l] = nums[l] ** 2\n",
    "                l += 1 \n",
    "            else:\n",
    "                answer[r-l] = nums[r] ** 2\n",
    "                r -= 1\n",
    "        return answer"
   ]
  },
  {
   "cell_type": "code",
   "execution_count": null,
   "id": "6a1a6ca0",
   "metadata": {},
   "outputs": [],
   "source": [
    "nums = [-7,-3,2,3,11]\n",
    "result = Solution().sortedSquares(nums)\n",
    "print(result)"
   ]
  },
  {
   "cell_type": "markdown",
   "id": "2746633e",
   "metadata": {},
   "source": [
    "#### time test"
   ]
  },
  {
   "cell_type": "code",
   "execution_count": null,
   "id": "51b85983",
   "metadata": {},
   "outputs": [],
   "source": [
    "nums = random.sample(range(-int(1e9), int(1e9)), int(1e6))\n",
    "nums.sort()"
   ]
  },
  {
   "cell_type": "code",
   "execution_count": null,
   "id": "16e10879",
   "metadata": {},
   "outputs": [],
   "source": [
    "%%time\n",
    "result = trivialSolution().sortedSquares(nums)\n",
    "print(result[0:11])"
   ]
  },
  {
   "cell_type": "code",
   "execution_count": null,
   "id": "76899029",
   "metadata": {},
   "outputs": [],
   "source": [
    "%%time\n",
    "result = Solution().sortedSquares(nums)\n",
    "print(result[0:11])"
   ]
  },
  {
   "cell_type": "markdown",
   "id": "a1db21e7",
   "metadata": {},
   "source": [
    "<b>need fast</b>\n",
    "\n",
    "although the two pointer pattern implemented does work, it's slower than the trivial solution in the way that it's currently implemented.\n",
    "\n",
    "Use a <a href=\"https://docs.python.org/3/library/collections.html#collections.deque\"> Deque</a>\n",
    "\n",
    "Deque (Doubly Ended Queue, pronounced 'deck') in Python is implemented using the module “collections“. Deque is preferred over a list in the cases where we need quicker append and pop operations from both the ends of the container, as deque provides an O(1) time complexity for append and pop operations as compared to list which provides O(n) time complexity."
   ]
  },
  {
   "cell_type": "code",
   "execution_count": null,
   "id": "9d6d68d0",
   "metadata": {},
   "outputs": [],
   "source": [
    "class Solution:\n",
    "    def sortedSquares(self, nums: list) -> list:\n",
    "        \n",
    "        answer = collections.deque()\n",
    "        l, r = 0, len(nums) - 1\n",
    "        \n",
    "        while l <= r:\n",
    "            left, right = abs(nums[l]), abs(nums[r])\n",
    "            if left > right:\n",
    "                answer.appendleft(left * left)\n",
    "                l += 1\n",
    "            else:\n",
    "                answer.appendleft(right * right)\n",
    "                r -= 1\n",
    "        return list(answer)"
   ]
  },
  {
   "cell_type": "code",
   "execution_count": null,
   "id": "a08716d1",
   "metadata": {},
   "outputs": [],
   "source": [
    "%%time\n",
    "result = Solution().sortedSquares(nums)\n",
    "print(result[0:11])"
   ]
  },
  {
   "cell_type": "markdown",
   "id": "ffd31f83",
   "metadata": {},
   "source": [
    "## 189. Rotate Array\n",
    "\n",
    "Given an array, rotate the array to the right by k steps, where k is non-negative.\n",
    "\n",
    "\n",
    "<b>Example 1:</b>\n",
    "```\n",
    "Input: nums = [1,2,3,4,5,6,7], k = 3\n",
    "Output: [5,6,7,1,2,3,4]\n",
    "Explanation:\n",
    "rotate 1 steps to the right: [7,1,2,3,4,5,6]\n",
    "rotate 2 steps to the right: [6,7,1,2,3,4,5]\n",
    "rotate 3 steps to the right: [5,6,7,1,2,3,4]\n",
    "```\n",
    "\n",
    "<b>Example 2:</b>\n",
    "```\n",
    "Input: nums = [-1,-100,3,99], k = 2\n",
    "Output: [3,99,-1,-100]\n",
    "Explanation: \n",
    "rotate 1 steps to the right: [99,-1,-100,3]\n",
    "rotate 2 steps to the right: [3,99,-1,-100]\n",
    "```"
   ]
  },
  {
   "cell_type": "code",
   "execution_count": null,
   "id": "422a43b8",
   "metadata": {},
   "outputs": [],
   "source": [
    "class Solution:\n",
    "    def rotate(self, nums: list, k: int) -> None:\n",
    "        \"\"\"\n",
    "        Do not return anything, modify nums in-place instead.\n",
    "        \"\"\"\n",
    "        for i in range(k):\n",
    "            nums.insert(0, nums.pop())\n",
    "        \n",
    "        # for debugging, return the list\n",
    "        return nums"
   ]
  },
  {
   "cell_type": "code",
   "execution_count": null,
   "id": "88bb662b",
   "metadata": {},
   "outputs": [],
   "source": [
    "nums = [1,2,3,4,5,6,7]\n",
    "k = 3 \n",
    "\n",
    "result = Solution().rotate(nums, k)\n",
    "result"
   ]
  },
  {
   "cell_type": "code",
   "execution_count": null,
   "id": "25ed8d78",
   "metadata": {},
   "outputs": [],
   "source": [
    "class Solution:\n",
    "    def rotate(self, nums: list, k: int) -> None:\n",
    "        \"\"\"\n",
    "        Do not return anything, modify nums in-place instead.\n",
    "        \"\"\"\n",
    "        n = len(nums)\n",
    "        if k ==0:\n",
    "            return\n",
    "        if k > n:\n",
    "            k = k%n\n",
    "        if k > 0:\n",
    "            nums[:] = nums[-k:] + nums[0:n-k]"
   ]
  },
  {
   "cell_type": "code",
   "execution_count": null,
   "id": "cfca6099",
   "metadata": {},
   "outputs": [],
   "source": [
    "nums = [1,2,3,4,5,6,7]\n",
    "k = 3 \n",
    "\n",
    "result = Solution().rotate(nums, k)\n",
    "result"
   ]
  },
  {
   "cell_type": "markdown",
   "id": "4ad74081",
   "metadata": {},
   "source": [
    "---"
   ]
  },
  {
   "cell_type": "markdown",
   "id": "8ae50f7c",
   "metadata": {},
   "source": [
    "# Day 3: Two Pointers"
   ]
  },
  {
   "cell_type": "markdown",
   "id": "aa9afa10",
   "metadata": {},
   "source": [
    "## 283. Move Zeroes\n",
    "\n",
    "Given an integer array nums, move all 0's to the end of it while maintaining the relative order of the non-zero elements.\n",
    "\n",
    "Note that you must do this in-place without making a copy of the array.\n",
    "\n",
    "<b>Example 1:</b>\n",
    "```\n",
    "Input: nums = [0,1,0,3,12]\n",
    "Output: [1,3,12,0,0]\n",
    "```\n",
    "<b>Example 2:</b>\n",
    "```\n",
    "Input: nums = [0]\n",
    "Output: [0]\n",
    "```"
   ]
  },
  {
   "cell_type": "markdown",
   "id": "f7157be0",
   "metadata": {},
   "source": [
    "#### create test "
   ]
  },
  {
   "cell_type": "code",
   "execution_count": null,
   "id": "85ce3747",
   "metadata": {},
   "outputs": [],
   "source": [
    "nums_length = int(1e5)\n",
    "nums_max = int(1e6)\n",
    "\n",
    "# create array\n",
    "nums = random.sample(range(nums_max), nums_length)\n",
    "\n",
    "# create random list of indexes\n",
    "zeros = random.sample(range(nums_length), nums_length//10)\n",
    "\n",
    "# assign 0s to indexes\n",
    "for idx in zeros:\n",
    "    nums[idx] = 0"
   ]
  },
  {
   "cell_type": "markdown",
   "id": "00550c50",
   "metadata": {},
   "source": [
    "#### slow method"
   ]
  },
  {
   "cell_type": "code",
   "execution_count": null,
   "id": "b9b5551b",
   "metadata": {},
   "outputs": [],
   "source": [
    "class Solution:\n",
    "    def moveZeroes(self, nums: list) -> None:\n",
    "        \"\"\"\n",
    "        Do not return anything, modify nums in-place instead.\n",
    "        \"\"\"\n",
    "        for i in tqdm(range(len(nums))):\n",
    "            if not nums[i]:\n",
    "                nums.append(0)\n",
    "                nums.remove(0)\n",
    "        return nums"
   ]
  },
  {
   "cell_type": "code",
   "execution_count": null,
   "id": "f4f4e997",
   "metadata": {},
   "outputs": [],
   "source": [
    "%%time\n",
    "result = Solution().moveZeroes(nums)"
   ]
  },
  {
   "cell_type": "markdown",
   "id": "450230aa",
   "metadata": {},
   "source": [
    "#### faster: two pointers"
   ]
  },
  {
   "cell_type": "code",
   "execution_count": null,
   "id": "a1c8b51d",
   "metadata": {},
   "outputs": [],
   "source": [
    "class Solution:\n",
    "    def moveZeroes(self, nums: list) -> None:\n",
    "        \"\"\"\n",
    "        Do not return anything, modify nums in-place instead.\n",
    "        \"\"\"\n",
    "        \n",
    "        i = 0\n",
    "        \n",
    "        for j in range(len(nums)):\n",
    "            if nums[j] != 0:\n",
    "                nums[j], nums[i] = nums[i], nums[j]\n",
    "                i+=1        \n",
    "        \n",
    "        return nums"
   ]
  },
  {
   "attachments": {
    "image.png": {
     "image/png": "[encoded data removed]"
    }
   },
   "cell_type": "markdown",
   "id": "807e6279",
   "metadata": {},
   "source": [
    "#### nice visual\n",
    "![image.png](attachment:image.png)"
   ]
  },
  {
   "cell_type": "code",
   "execution_count": null,
   "id": "da17e671",
   "metadata": {},
   "outputs": [],
   "source": [
    "%%time\n",
    "result = Solution().moveZeroes(nums)"
   ]
  },
  {
   "cell_type": "markdown",
   "id": "b2b6ced4",
   "metadata": {},
   "source": [
    "## 167. Two Sum II - Input Array Is Sorted\n",
    "\n",
    "Given a <b>1-indexed</b> array of integers `numbers` that is already <b>sorted in non-decreasing order</b>, find two numbers such that they add up to a specific `target` number. Let these two numbers be numbers, <code>[index <sub>1</sub>]</code> and numbers <code>[index <sub>2</sub>]</code> where <code>1 <= index<sub>1</sub> < index<sub>2</sub> <= numbers.length</code>.\n",
    "\n",
    "Return the indices of the two numbers, index1 and index2, <b>added by one</b> as an integer array <code>[index <sub>1</sub>], [index <sub>2</sub>]</code> of length 2.\n",
    "\n",
    "The tests are generated such that there is <b>exactly one solution</b>. You may not use the same element twice.\n",
    "\n",
    "Your solution must use only constant extra space.\n",
    "\n",
    "<b>Example 1:</b>\n",
    "```\n",
    "Input: numbers = [2,7,11,15], target = 9\n",
    "Output: [1,2]\n",
    "Explanation: The sum of 2 and 7 is 9. Therefore, index1 = 1, index2 = 2. We return [1, 2].\n",
    "```\n",
    "<b>Example 2:</b>\n",
    "```\n",
    "Input: numbers = [2,3,4], target = 6\n",
    "Output: [1,3]\n",
    "Explanation: The sum of 2 and 4 is 6. Therefore index1 = 1, index2 = 3. We return [1, 3].\n",
    "```\n",
    "<b>Example 3:</b>\n",
    "```\n",
    "Input: numbers = [-1,0], target = -1\n",
    "Output: [1,2]\n",
    "Explanation: The sum of -1 and 0 is -1. Therefore index1 = 1, index2 = 2. We return [1, 2].\n",
    "```"
   ]
  },
  {
   "cell_type": "markdown",
   "id": "376ae70a",
   "metadata": {},
   "source": [
    "<b>Notes</b>\n",
    "\n",
    "Key to this is that the list is already sorted, and 1-indexed.\n",
    "\n",
    "Being sorted, Binary Search can be used.\n",
    "\n",
    "As before in Two Sum I, a hash table can be used. One pass is fastest.\n",
    "\n",
    "Two pointers can also be used."
   ]
  },
  {
   "cell_type": "code",
   "execution_count": null,
   "id": "c762e45c",
   "metadata": {},
   "outputs": [],
   "source": [
    "class Solution:\n",
    "    def twoSumHash(self, numbers: list, target: int) -> list:\n",
    "                \n",
    "        hashmap = {}\n",
    "        \n",
    "        for i in range(len(numbers)):\n",
    "            complement = target - numbers[i]\n",
    "            print(i, hashmap, complement)\n",
    "            if complement in hashmap:\n",
    "                return [hashmap[complement]+1, i+1]\n",
    "            hashmap[numbers[i]] = i\n",
    "            \n",
    "    def twoSumBinarySearch(self, numbers: list, target: int) -> list:\n",
    "        \n",
    "        return\n",
    "        \n",
    "        \n",
    "    def twoSumTwoPointers(self, numbers: list, target: int) -> list:\n",
    "        \n",
    "        left, right = 0, len(numbers)-1\n",
    "        \n",
    "        while left<=right:\n",
    "            complement = target - numbers[left]\n",
    "            \n",
    "            if numbers[right] == complement:\n",
    "                return [left+1, right+1]\n",
    "            \n",
    "            elif numbers[right] > complement:\n",
    "                right -= 1\n",
    "                \n",
    "            else:\n",
    "                left +=1"
   ]
  },
  {
   "cell_type": "code",
   "execution_count": null,
   "id": "f0dcee68",
   "metadata": {},
   "outputs": [],
   "source": [
    "numbers = [2,3,4,5,8,19,45,51]\n",
    "target = 96\n",
    "result = Solution().twoSumHash(numbers, target)\n",
    "print(result)"
   ]
  },
  {
   "cell_type": "code",
   "execution_count": null,
   "id": "1d4effef",
   "metadata": {},
   "outputs": [],
   "source": [
    "numbers = [2,3,4,5,8,19,45,51]\n",
    "target = 96\n",
    "result = Solution().twoSumTwoPointers(numbers, target)\n",
    "print(result)"
   ]
  },
  {
   "cell_type": "markdown",
   "id": "4fa51128",
   "metadata": {},
   "source": [
    "---"
   ]
  },
  {
   "cell_type": "markdown",
   "id": "5409865a",
   "metadata": {},
   "source": [
    "## Day 4: More Two Pointers..."
   ]
  },
  {
   "cell_type": "code",
   "execution_count": null,
   "id": "2828fb6b",
   "metadata": {},
   "outputs": [],
   "source": []
  }
 ],
 "metadata": {
  "kernelspec": {
   "display_name": "Python 3 (ipykernel)",
   "language": "python",
   "name": "python3"
  },
  "language_info": {
   "codemirror_mode": {
    "name": "ipython",
    "version": 3
   },
   "file_extension": ".py",
   "mimetype": "text/x-python",
   "name": "python",
   "nbconvert_exporter": "python",
   "pygments_lexer": "ipython3",
   "version": "3.9.6"
  }
 },
 "nbformat": 4,
 "nbformat_minor": 5
}
